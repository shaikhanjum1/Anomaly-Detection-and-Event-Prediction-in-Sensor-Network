{
 "cells": [
  {
   "cell_type": "markdown",
   "id": "2124ba51",
   "metadata": {},
   "source": [
    "# WELCOME"
   ]
  },
  {
   "cell_type": "markdown",
   "id": "6caefd1a",
   "metadata": {},
   "source": [
    "Importing library files"
   ]
  },
  {
   "cell_type": "code",
   "execution_count": 1,
   "id": "aff2b346",
   "metadata": {},
   "outputs": [],
   "source": [
    "import numpy as np\n",
    "import pandas as pd\n",
    "import matplotlib.pyplot as plt\n",
    "import seaborn as sns\n",
    "from sklearn.svm import OneClassSVM\n",
    "from sklearn.cluster import DBSCAN\n",
    "from sklearn.preprocessing import StandardScaler  \n",
    "from sklearn.preprocessing import normalize \n",
    "from sklearn.decomposition import PCA"
   ]
  },
  {
   "cell_type": "markdown",
   "id": "c76a6e8b",
   "metadata": {},
   "source": [
    "# DATA INGESTION /LOADING"
   ]
  },
  {
   "cell_type": "code",
   "execution_count": 2,
   "id": "7f43c0c4",
   "metadata": {},
   "outputs": [],
   "source": [
    "df=pd.read_csv(r'data.csv')"
   ]
  },
  {
   "cell_type": "code",
   "execution_count": 3,
   "id": "d900364e",
   "metadata": {},
   "outputs": [
    {
     "data": {
      "text/html": [
       "<div>\n",
       "<style scoped>\n",
       "    .dataframe tbody tr th:only-of-type {\n",
       "        vertical-align: middle;\n",
       "    }\n",
       "\n",
       "    .dataframe tbody tr th {\n",
       "        vertical-align: top;\n",
       "    }\n",
       "\n",
       "    .dataframe thead th {\n",
       "        text-align: right;\n",
       "    }\n",
       "</style>\n",
       "<table border=\"1\" class=\"dataframe\">\n",
       "  <thead>\n",
       "    <tr style=\"text-align: right;\">\n",
       "      <th></th>\n",
       "      <th>Area</th>\n",
       "      <th>Sensing Range</th>\n",
       "      <th>Transmission Range</th>\n",
       "      <th>Number of Sensor nodes</th>\n",
       "      <th>Number of Barriers</th>\n",
       "    </tr>\n",
       "  </thead>\n",
       "  <tbody>\n",
       "    <tr>\n",
       "      <th>0</th>\n",
       "      <td>5000</td>\n",
       "      <td>15</td>\n",
       "      <td>30</td>\n",
       "      <td>100</td>\n",
       "      <td>30</td>\n",
       "    </tr>\n",
       "    <tr>\n",
       "      <th>1</th>\n",
       "      <td>5000</td>\n",
       "      <td>16</td>\n",
       "      <td>32</td>\n",
       "      <td>112</td>\n",
       "      <td>35</td>\n",
       "    </tr>\n",
       "    <tr>\n",
       "      <th>2</th>\n",
       "      <td>5000</td>\n",
       "      <td>17</td>\n",
       "      <td>34</td>\n",
       "      <td>124</td>\n",
       "      <td>42</td>\n",
       "    </tr>\n",
       "    <tr>\n",
       "      <th>3</th>\n",
       "      <td>5000</td>\n",
       "      <td>18</td>\n",
       "      <td>36</td>\n",
       "      <td>136</td>\n",
       "      <td>48</td>\n",
       "    </tr>\n",
       "    <tr>\n",
       "      <th>4</th>\n",
       "      <td>5000</td>\n",
       "      <td>19</td>\n",
       "      <td>38</td>\n",
       "      <td>148</td>\n",
       "      <td>56</td>\n",
       "    </tr>\n",
       "  </tbody>\n",
       "</table>\n",
       "</div>"
      ],
      "text/plain": [
       "   Area  Sensing Range  Transmission Range  Number of Sensor nodes  \\\n",
       "0  5000             15                  30                     100   \n",
       "1  5000             16                  32                     112   \n",
       "2  5000             17                  34                     124   \n",
       "3  5000             18                  36                     136   \n",
       "4  5000             19                  38                     148   \n",
       "\n",
       "   Number of Barriers  \n",
       "0                  30  \n",
       "1                  35  \n",
       "2                  42  \n",
       "3                  48  \n",
       "4                  56  "
      ]
     },
     "execution_count": 3,
     "metadata": {},
     "output_type": "execute_result"
    }
   ],
   "source": [
    "df.head()"
   ]
  },
  {
   "cell_type": "code",
   "execution_count": 4,
   "id": "61f617a1",
   "metadata": {},
   "outputs": [
    {
     "data": {
      "text/html": [
       "<div>\n",
       "<style scoped>\n",
       "    .dataframe tbody tr th:only-of-type {\n",
       "        vertical-align: middle;\n",
       "    }\n",
       "\n",
       "    .dataframe tbody tr th {\n",
       "        vertical-align: top;\n",
       "    }\n",
       "\n",
       "    .dataframe thead th {\n",
       "        text-align: right;\n",
       "    }\n",
       "</style>\n",
       "<table border=\"1\" class=\"dataframe\">\n",
       "  <thead>\n",
       "    <tr style=\"text-align: right;\">\n",
       "      <th></th>\n",
       "      <th>Area</th>\n",
       "      <th>Sensing Range</th>\n",
       "      <th>Transmission Range</th>\n",
       "      <th>Number of Sensor nodes</th>\n",
       "      <th>Number of Barriers</th>\n",
       "    </tr>\n",
       "  </thead>\n",
       "  <tbody>\n",
       "    <tr>\n",
       "      <th>0</th>\n",
       "      <td>5000</td>\n",
       "      <td>15</td>\n",
       "      <td>30</td>\n",
       "      <td>100</td>\n",
       "      <td>30</td>\n",
       "    </tr>\n",
       "    <tr>\n",
       "      <th>1</th>\n",
       "      <td>5000</td>\n",
       "      <td>16</td>\n",
       "      <td>32</td>\n",
       "      <td>112</td>\n",
       "      <td>35</td>\n",
       "    </tr>\n",
       "    <tr>\n",
       "      <th>2</th>\n",
       "      <td>5000</td>\n",
       "      <td>17</td>\n",
       "      <td>34</td>\n",
       "      <td>124</td>\n",
       "      <td>42</td>\n",
       "    </tr>\n",
       "    <tr>\n",
       "      <th>3</th>\n",
       "      <td>5000</td>\n",
       "      <td>18</td>\n",
       "      <td>36</td>\n",
       "      <td>136</td>\n",
       "      <td>48</td>\n",
       "    </tr>\n",
       "    <tr>\n",
       "      <th>4</th>\n",
       "      <td>5000</td>\n",
       "      <td>19</td>\n",
       "      <td>38</td>\n",
       "      <td>148</td>\n",
       "      <td>56</td>\n",
       "    </tr>\n",
       "    <tr>\n",
       "      <th>...</th>\n",
       "      <td>...</td>\n",
       "      <td>...</td>\n",
       "      <td>...</td>\n",
       "      <td>...</td>\n",
       "      <td>...</td>\n",
       "    </tr>\n",
       "    <tr>\n",
       "      <th>177</th>\n",
       "      <td>50000</td>\n",
       "      <td>36</td>\n",
       "      <td>72</td>\n",
       "      <td>352</td>\n",
       "      <td>101</td>\n",
       "    </tr>\n",
       "    <tr>\n",
       "      <th>178</th>\n",
       "      <td>50000</td>\n",
       "      <td>37</td>\n",
       "      <td>74</td>\n",
       "      <td>364</td>\n",
       "      <td>107</td>\n",
       "    </tr>\n",
       "    <tr>\n",
       "      <th>179</th>\n",
       "      <td>50000</td>\n",
       "      <td>38</td>\n",
       "      <td>76</td>\n",
       "      <td>376</td>\n",
       "      <td>114</td>\n",
       "    </tr>\n",
       "    <tr>\n",
       "      <th>180</th>\n",
       "      <td>50000</td>\n",
       "      <td>39</td>\n",
       "      <td>78</td>\n",
       "      <td>388</td>\n",
       "      <td>121</td>\n",
       "    </tr>\n",
       "    <tr>\n",
       "      <th>181</th>\n",
       "      <td>50000</td>\n",
       "      <td>40</td>\n",
       "      <td>80</td>\n",
       "      <td>400</td>\n",
       "      <td>128</td>\n",
       "    </tr>\n",
       "  </tbody>\n",
       "</table>\n",
       "<p>182 rows × 5 columns</p>\n",
       "</div>"
      ],
      "text/plain": [
       "      Area  Sensing Range  Transmission Range  Number of Sensor nodes  \\\n",
       "0     5000             15                  30                     100   \n",
       "1     5000             16                  32                     112   \n",
       "2     5000             17                  34                     124   \n",
       "3     5000             18                  36                     136   \n",
       "4     5000             19                  38                     148   \n",
       "..     ...            ...                 ...                     ...   \n",
       "177  50000             36                  72                     352   \n",
       "178  50000             37                  74                     364   \n",
       "179  50000             38                  76                     376   \n",
       "180  50000             39                  78                     388   \n",
       "181  50000             40                  80                     400   \n",
       "\n",
       "     Number of Barriers  \n",
       "0                    30  \n",
       "1                    35  \n",
       "2                    42  \n",
       "3                    48  \n",
       "4                    56  \n",
       "..                  ...  \n",
       "177                 101  \n",
       "178                 107  \n",
       "179                 114  \n",
       "180                 121  \n",
       "181                 128  \n",
       "\n",
       "[182 rows x 5 columns]"
      ]
     },
     "execution_count": 4,
     "metadata": {},
     "output_type": "execute_result"
    }
   ],
   "source": [
    "# checking for duplicates\n",
    "df.drop_duplicates()"
   ]
  },
  {
   "cell_type": "code",
   "execution_count": 5,
   "id": "83321ff6",
   "metadata": {},
   "outputs": [
    {
     "data": {
      "text/html": [
       "<div>\n",
       "<style scoped>\n",
       "    .dataframe tbody tr th:only-of-type {\n",
       "        vertical-align: middle;\n",
       "    }\n",
       "\n",
       "    .dataframe tbody tr th {\n",
       "        vertical-align: top;\n",
       "    }\n",
       "\n",
       "    .dataframe thead th {\n",
       "        text-align: right;\n",
       "    }\n",
       "</style>\n",
       "<table border=\"1\" class=\"dataframe\">\n",
       "  <thead>\n",
       "    <tr style=\"text-align: right;\">\n",
       "      <th></th>\n",
       "      <th>Area</th>\n",
       "      <th>Sensing Range</th>\n",
       "      <th>Transmission Range</th>\n",
       "      <th>Number of Sensor nodes</th>\n",
       "      <th>Number of Barriers</th>\n",
       "    </tr>\n",
       "  </thead>\n",
       "  <tbody>\n",
       "    <tr>\n",
       "      <th>count</th>\n",
       "      <td>182.000000</td>\n",
       "      <td>182.00000</td>\n",
       "      <td>182.000000</td>\n",
       "      <td>182.000000</td>\n",
       "      <td>182.000000</td>\n",
       "    </tr>\n",
       "    <tr>\n",
       "      <th>mean</th>\n",
       "      <td>24375.000000</td>\n",
       "      <td>27.50000</td>\n",
       "      <td>55.000000</td>\n",
       "      <td>250.000000</td>\n",
       "      <td>94.071429</td>\n",
       "    </tr>\n",
       "    <tr>\n",
       "      <th>std</th>\n",
       "      <td>15197.252769</td>\n",
       "      <td>7.52069</td>\n",
       "      <td>15.041379</td>\n",
       "      <td>90.248276</td>\n",
       "      <td>65.171006</td>\n",
       "    </tr>\n",
       "    <tr>\n",
       "      <th>min</th>\n",
       "      <td>5000.000000</td>\n",
       "      <td>15.00000</td>\n",
       "      <td>30.000000</td>\n",
       "      <td>100.000000</td>\n",
       "      <td>12.000000</td>\n",
       "    </tr>\n",
       "    <tr>\n",
       "      <th>25%</th>\n",
       "      <td>9375.000000</td>\n",
       "      <td>21.00000</td>\n",
       "      <td>42.000000</td>\n",
       "      <td>172.000000</td>\n",
       "      <td>42.000000</td>\n",
       "    </tr>\n",
       "    <tr>\n",
       "      <th>50%</th>\n",
       "      <td>21875.000000</td>\n",
       "      <td>27.50000</td>\n",
       "      <td>55.000000</td>\n",
       "      <td>250.000000</td>\n",
       "      <td>80.000000</td>\n",
       "    </tr>\n",
       "    <tr>\n",
       "      <th>75%</th>\n",
       "      <td>39375.000000</td>\n",
       "      <td>34.00000</td>\n",
       "      <td>68.000000</td>\n",
       "      <td>328.000000</td>\n",
       "      <td>128.750000</td>\n",
       "    </tr>\n",
       "    <tr>\n",
       "      <th>max</th>\n",
       "      <td>50000.000000</td>\n",
       "      <td>40.00000</td>\n",
       "      <td>80.000000</td>\n",
       "      <td>400.000000</td>\n",
       "      <td>320.000000</td>\n",
       "    </tr>\n",
       "  </tbody>\n",
       "</table>\n",
       "</div>"
      ],
      "text/plain": [
       "               Area  Sensing Range  Transmission Range  \\\n",
       "count    182.000000      182.00000          182.000000   \n",
       "mean   24375.000000       27.50000           55.000000   \n",
       "std    15197.252769        7.52069           15.041379   \n",
       "min     5000.000000       15.00000           30.000000   \n",
       "25%     9375.000000       21.00000           42.000000   \n",
       "50%    21875.000000       27.50000           55.000000   \n",
       "75%    39375.000000       34.00000           68.000000   \n",
       "max    50000.000000       40.00000           80.000000   \n",
       "\n",
       "       Number of Sensor nodes  Number of Barriers  \n",
       "count              182.000000          182.000000  \n",
       "mean               250.000000           94.071429  \n",
       "std                 90.248276           65.171006  \n",
       "min                100.000000           12.000000  \n",
       "25%                172.000000           42.000000  \n",
       "50%                250.000000           80.000000  \n",
       "75%                328.000000          128.750000  \n",
       "max                400.000000          320.000000  "
      ]
     },
     "execution_count": 5,
     "metadata": {},
     "output_type": "execute_result"
    }
   ],
   "source": [
    "df.describe()"
   ]
  },
  {
   "cell_type": "code",
   "execution_count": 6,
   "id": "9f4d3c5a",
   "metadata": {},
   "outputs": [
    {
     "data": {
      "text/plain": [
       "(182, 5)"
      ]
     },
     "execution_count": 6,
     "metadata": {},
     "output_type": "execute_result"
    }
   ],
   "source": [
    "df.shape"
   ]
  },
  {
   "cell_type": "code",
   "execution_count": 7,
   "id": "0c41ff03",
   "metadata": {},
   "outputs": [
    {
     "data": {
      "text/plain": [
       "32     5\n",
       "28     5\n",
       "24     4\n",
       "48     4\n",
       "134    3\n",
       "      ..\n",
       "37     1\n",
       "23     1\n",
       "256    1\n",
       "242    1\n",
       "128    1\n",
       "Name: Number of Barriers, Length: 122, dtype: int64"
      ]
     },
     "execution_count": 7,
     "metadata": {},
     "output_type": "execute_result"
    }
   ],
   "source": [
    "df['Number of Barriers'].value_counts()"
   ]
  },
  {
   "cell_type": "code",
   "execution_count": 8,
   "id": "01d1de4d",
   "metadata": {},
   "outputs": [
    {
     "data": {
      "text/plain": [
       "Area                      0\n",
       "Sensing Range             0\n",
       "Transmission Range        0\n",
       "Number of Sensor nodes    0\n",
       "Number of Barriers        0\n",
       "dtype: int64"
      ]
     },
     "execution_count": 8,
     "metadata": {},
     "output_type": "execute_result"
    }
   ],
   "source": [
    "#checking for thr null values with their sum\n",
    "df.isna().sum()"
   ]
  },
  {
   "cell_type": "markdown",
   "id": "146b5da6",
   "metadata": {},
   "source": [
    "# EDA"
   ]
  },
  {
   "cell_type": "markdown",
   "id": "646a7062",
   "metadata": {},
   "source": [
    "checking for the missing data with the the help of heatmap"
   ]
  },
  {
   "cell_type": "code",
   "execution_count": 10,
   "id": "79d81e13",
   "metadata": {},
   "outputs": [
    {
     "data": {
      "text/plain": [
       "<Axes: >"
      ]
     },
     "execution_count": 10,
     "metadata": {},
     "output_type": "execute_result"
    },
    {
     "data": {
      "image/png": "[encoded data removed]",
      "text/plain": [
       "<Figure size 640x480 with 1 Axes>"
      ]
     },
     "metadata": {},
     "output_type": "display_data"
    }
   ],
   "source": [
    "\n",
    "sns.heatmap(df.isnull(),yticklabels=False,cbar=False,cmap='viridis')"
   ]
  },
  {
   "cell_type": "markdown",
   "id": "c9bb15a0",
   "metadata": {},
   "source": [
    "No missing data found in heatmap"
   ]
  },
  {
   "cell_type": "code",
   "execution_count": 11,
   "id": "002a258e",
   "metadata": {},
   "outputs": [
    {
     "data": {
      "image/png": "[encoded data removed]",
      "text/plain": [
       "<Figure size 1250x1250 with 30 Axes>"
      ]
     },
     "metadata": {},
     "output_type": "display_data"
    }
   ],
   "source": [
    "sns.pairplot(df)\n",
    "plt.show()"
   ]
  },
  {
   "cell_type": "code",
   "execution_count": 12,
   "id": "950042cd",
   "metadata": {},
   "outputs": [
    {
     "data": {
      "text/html": [
       "<div>\n",
       "<style scoped>\n",
       "    .dataframe tbody tr th:only-of-type {\n",
       "        vertical-align: middle;\n",
       "    }\n",
       "\n",
       "    .dataframe tbody tr th {\n",
       "        vertical-align: top;\n",
       "    }\n",
       "\n",
       "    .dataframe thead th {\n",
       "        text-align: right;\n",
       "    }\n",
       "</style>\n",
       "<table border=\"1\" class=\"dataframe\">\n",
       "  <thead>\n",
       "    <tr style=\"text-align: right;\">\n",
       "      <th></th>\n",
       "      <th>Area</th>\n",
       "      <th>Sensing Range</th>\n",
       "      <th>Transmission Range</th>\n",
       "      <th>Number of Sensor nodes</th>\n",
       "      <th>Number of Barriers</th>\n",
       "    </tr>\n",
       "  </thead>\n",
       "  <tbody>\n",
       "    <tr>\n",
       "      <th>Area</th>\n",
       "      <td>1.000000e+00</td>\n",
       "      <td>3.095077e-16</td>\n",
       "      <td>3.095077e-16</td>\n",
       "      <td>-1.162999e-16</td>\n",
       "      <td>-0.423438</td>\n",
       "    </tr>\n",
       "    <tr>\n",
       "      <th>Sensing Range</th>\n",
       "      <td>3.095077e-16</td>\n",
       "      <td>1.000000e+00</td>\n",
       "      <td>1.000000e+00</td>\n",
       "      <td>1.000000e+00</td>\n",
       "      <td>0.838365</td>\n",
       "    </tr>\n",
       "    <tr>\n",
       "      <th>Transmission Range</th>\n",
       "      <td>3.095077e-16</td>\n",
       "      <td>1.000000e+00</td>\n",
       "      <td>1.000000e+00</td>\n",
       "      <td>1.000000e+00</td>\n",
       "      <td>0.838365</td>\n",
       "    </tr>\n",
       "    <tr>\n",
       "      <th>Number of Sensor nodes</th>\n",
       "      <td>-1.162999e-16</td>\n",
       "      <td>1.000000e+00</td>\n",
       "      <td>1.000000e+00</td>\n",
       "      <td>1.000000e+00</td>\n",
       "      <td>0.838365</td>\n",
       "    </tr>\n",
       "    <tr>\n",
       "      <th>Number of Barriers</th>\n",
       "      <td>-4.234383e-01</td>\n",
       "      <td>8.383655e-01</td>\n",
       "      <td>8.383655e-01</td>\n",
       "      <td>8.383655e-01</td>\n",
       "      <td>1.000000</td>\n",
       "    </tr>\n",
       "  </tbody>\n",
       "</table>\n",
       "</div>"
      ],
      "text/plain": [
       "                                Area  Sensing Range  Transmission Range  \\\n",
       "Area                    1.000000e+00   3.095077e-16        3.095077e-16   \n",
       "Sensing Range           3.095077e-16   1.000000e+00        1.000000e+00   \n",
       "Transmission Range      3.095077e-16   1.000000e+00        1.000000e+00   \n",
       "Number of Sensor nodes -1.162999e-16   1.000000e+00        1.000000e+00   \n",
       "Number of Barriers     -4.234383e-01   8.383655e-01        8.383655e-01   \n",
       "\n",
       "                        Number of Sensor nodes  Number of Barriers  \n",
       "Area                             -1.162999e-16           -0.423438  \n",
       "Sensing Range                     1.000000e+00            0.838365  \n",
       "Transmission Range                1.000000e+00            0.838365  \n",
       "Number of Sensor nodes            1.000000e+00            0.838365  \n",
       "Number of Barriers                8.383655e-01            1.000000  "
      ]
     },
     "execution_count": 12,
     "metadata": {},
     "output_type": "execute_result"
    }
   ],
   "source": [
    "df.corr()"
   ]
  },
  {
   "cell_type": "code",
   "execution_count": 13,
   "id": "d72e942d",
   "metadata": {},
   "outputs": [
    {
     "data": {
      "text/plain": [
       "<Axes: >"
      ]
     },
     "execution_count": 13,
     "metadata": {},
     "output_type": "execute_result"
    },
    {
     "data": {
      "image/png": "[encoded data removed]",
      "text/plain": [
       "<Figure size 1000x1000 with 2 Axes>"
      ]
     },
     "metadata": {},
     "output_type": "display_data"
    }
   ],
   "source": [
    "%matplotlib inline\n",
    "fig, ax = plt.subplots(figsize= (10,10))\n",
    "sns.heatmap(df.corr(), cmap = \"RdYlBu\")"
   ]
  },
  {
   "cell_type": "markdown",
   "id": "91edcc8a",
   "metadata": {},
   "source": [
    "Data processing"
   ]
  },
  {
   "cell_type": "markdown",
   "id": "a144a713",
   "metadata": {},
   "source": [
    "# APPLYING Models"
   ]
  },
  {
   "cell_type": "markdown",
   "id": "fc192a99",
   "metadata": {},
   "source": [
    "Models for anomaly detection\n"
   ]
  },
  {
   "cell_type": "markdown",
   "id": "a0c0e313",
   "metadata": {},
   "source": [
    "# DBCAN Model"
   ]
  },
  {
   "cell_type": "code",
   "execution_count": 14,
   "id": "57343f3f",
   "metadata": {},
   "outputs": [],
   "source": [
    "scaler= StandardScaler()\n",
    "df_s = scaler.fit_transform(df)\n",
    "df_norm = pd.DataFrame(normalize(df_s))"
   ]
  },
  {
   "cell_type": "code",
   "execution_count": 15,
   "id": "1e8ad3ff",
   "metadata": {},
   "outputs": [],
   "source": [
    "df_reduce = df_s[:, :10]\n",
    "db_model = DBSCAN(eps = 0.05, min_samples = 10)\n",
    "clusters = db_model.fit_predict(df)\n"
   ]
  },
  {
   "cell_type": "code",
   "execution_count": 16,
   "id": "a9a9ec65",
   "metadata": {},
   "outputs": [],
   "source": [
    "df['Cluster'] = clusters"
   ]
  },
  {
   "cell_type": "code",
   "execution_count": 17,
   "id": "f25ce8cd",
   "metadata": {},
   "outputs": [
    {
     "data": {
      "text/plain": [
       "array([-1, -1, -1, -1, -1, -1, -1, -1, -1, -1, -1, -1, -1, -1, -1, -1, -1,\n",
       "       -1, -1, -1, -1, -1, -1, -1, -1, -1, -1, -1, -1, -1, -1, -1, -1, -1,\n",
       "       -1, -1, -1, -1, -1, -1, -1, -1, -1, -1, -1, -1, -1, -1, -1, -1, -1,\n",
       "       -1, -1, -1, -1, -1, -1, -1, -1, -1, -1, -1, -1, -1, -1, -1, -1, -1,\n",
       "       -1, -1, -1, -1, -1, -1, -1, -1, -1, -1, -1, -1, -1, -1, -1, -1, -1,\n",
       "       -1, -1, -1, -1, -1, -1, -1, -1, -1, -1, -1, -1, -1, -1, -1, -1, -1,\n",
       "       -1, -1, -1, -1, -1, -1, -1, -1, -1, -1, -1, -1, -1, -1, -1, -1, -1,\n",
       "       -1, -1, -1, -1, -1, -1, -1, -1, -1, -1, -1, -1, -1, -1, -1, -1, -1,\n",
       "       -1, -1, -1, -1, -1, -1, -1, -1, -1, -1, -1, -1, -1, -1, -1, -1, -1,\n",
       "       -1, -1, -1, -1, -1, -1, -1, -1, -1, -1, -1, -1, -1, -1, -1, -1, -1,\n",
       "       -1, -1, -1, -1, -1, -1, -1, -1, -1, -1, -1, -1], dtype=int64)"
      ]
     },
     "execution_count": 17,
     "metadata": {},
     "output_type": "execute_result"
    }
   ],
   "source": [
    "clusters"
   ]
  },
  {
   "cell_type": "code",
   "execution_count": 18,
   "id": "57e30087",
   "metadata": {},
   "outputs": [
    {
     "data": {
      "image/png": "[encoded data removed]",
      "text/plain": [
       "<Figure size 640x480 with 2 Axes>"
      ]
     },
     "metadata": {},
     "output_type": "display_data"
    }
   ],
   "source": [
    "# Visualize the clusters\n",
    "plt.scatter(df['Area'], df['Cluster'], c=df['Cluster'], cmap='viridis')\n",
    "plt.xlabel('Area')\n",
    "plt.ylabel('Cluster')\n",
    "plt.title('DBSCAN Clustering')\n",
    "plt.colorbar(label='Cluster')\n",
    "plt.show()"
   ]
  },
  {
   "cell_type": "markdown",
   "id": "4cb6b8a5",
   "metadata": {},
   "source": [
    "# one class SVM"
   ]
  },
  {
   "cell_type": "code",
   "execution_count": 19,
   "id": "8e50819d",
   "metadata": {},
   "outputs": [],
   "source": [
    "\n",
    "from sklearn.svm import OneClassSVM"
   ]
  },
  {
   "cell_type": "code",
   "execution_count": 20,
   "id": "23aaaa44",
   "metadata": {},
   "outputs": [],
   "source": [
    "model = OneClassSVM(kernel = 'rbf', gamma = 0.001, nu=0.1).fit(df)\n",
    "y_pred= model.predict(df == -1)"
   ]
  },
  {
   "cell_type": "code",
   "execution_count": 21,
   "id": "73afc696",
   "metadata": {},
   "outputs": [],
   "source": [
    "is_anomaly = np.concatenate((np.zeros(len(df),dtype=int),(y_pred== -1).astype(int)))"
   ]
  },
  {
   "cell_type": "code",
   "execution_count": 22,
   "id": "141c823d",
   "metadata": {},
   "outputs": [],
   "source": [
    "df['is_anomaly']= is_anomaly[:182]"
   ]
  },
  {
   "cell_type": "code",
   "execution_count": 23,
   "id": "c3a4b9dd",
   "metadata": {},
   "outputs": [
    {
     "data": {
      "text/plain": [
       "array([0, 0, 0, 0, 0, 0, 0, 0, 0, 0, 0, 0, 0, 0, 0, 0, 0, 0, 0, 0, 0, 0,\n",
       "       0, 0, 0, 0, 0, 0, 0, 0, 0, 0, 0, 0, 0, 0, 0, 0, 0, 0, 0, 0, 0, 0,\n",
       "       0, 0, 0, 0, 0, 0, 0, 0, 0, 0, 0, 0, 0, 0, 0, 0, 0, 0, 0, 0, 0, 0,\n",
       "       0, 0, 0, 0, 0, 0, 0, 0, 0, 0, 0, 0, 0, 0, 0, 0, 0, 0, 0, 0, 0, 0,\n",
       "       0, 0, 0, 0, 0, 0, 0, 0, 0, 0, 0, 0, 0, 0, 0, 0, 0, 0, 0, 0, 0, 0,\n",
       "       0, 0, 0, 0, 0, 0, 0, 0, 0, 0, 0, 0, 0, 0, 0, 0, 0, 0, 0, 0, 0, 0,\n",
       "       0, 0, 0, 0, 0, 0, 0, 0, 0, 0, 0, 0, 0, 0, 0, 0, 0, 0, 0, 0, 0, 0,\n",
       "       0, 0, 0, 0, 0, 0, 0, 0, 0, 0, 0, 0, 0, 0, 0, 0, 0, 0, 0, 0, 0, 0,\n",
       "       0, 0, 0, 0, 0, 0, 1, 1, 1, 1, 1, 1, 1, 1, 1, 1, 1, 1, 1, 1, 1, 1,\n",
       "       1, 1, 1, 1, 1, 1, 1, 1, 1, 1, 1, 1, 1, 1, 1, 1, 1, 1, 1, 1, 1, 1,\n",
       "       1, 1, 1, 1, 1, 1, 1, 1, 1, 1, 1, 1, 1, 1, 1, 1, 1, 1, 1, 1, 1, 1,\n",
       "       1, 1, 1, 1, 1, 1, 1, 1, 1, 1, 1, 1, 1, 1, 1, 1, 1, 1, 1, 1, 1, 1,\n",
       "       1, 1, 1, 1, 1, 1, 1, 1, 1, 1, 1, 1, 1, 1, 1, 1, 1, 1, 1, 1, 1, 1,\n",
       "       1, 1, 1, 1, 1, 1, 1, 1, 1, 1, 1, 1, 1, 1, 1, 1, 1, 1, 1, 1, 1, 1,\n",
       "       1, 1, 1, 1, 1, 1, 1, 1, 1, 1, 1, 1, 1, 1, 1, 1, 1, 1, 1, 1, 1, 1,\n",
       "       1, 1, 1, 1, 1, 1, 1, 1, 1, 1, 1, 1, 1, 1, 1, 1, 1, 1, 1, 1, 1, 1,\n",
       "       1, 1, 1, 1, 1, 1, 1, 1, 1, 1, 1, 1])"
      ]
     },
     "execution_count": 23,
     "metadata": {},
     "output_type": "execute_result"
    }
   ],
   "source": [
    "is_anomaly"
   ]
  },
  {
   "cell_type": "code",
   "execution_count": 24,
   "id": "f1088575",
   "metadata": {},
   "outputs": [
    {
     "data": {
      "text/html": [
       "<div>\n",
       "<style scoped>\n",
       "    .dataframe tbody tr th:only-of-type {\n",
       "        vertical-align: middle;\n",
       "    }\n",
       "\n",
       "    .dataframe tbody tr th {\n",
       "        vertical-align: top;\n",
       "    }\n",
       "\n",
       "    .dataframe thead th {\n",
       "        text-align: right;\n",
       "    }\n",
       "</style>\n",
       "<table border=\"1\" class=\"dataframe\">\n",
       "  <thead>\n",
       "    <tr style=\"text-align: right;\">\n",
       "      <th></th>\n",
       "      <th>Area</th>\n",
       "      <th>Sensing Range</th>\n",
       "      <th>Transmission Range</th>\n",
       "      <th>Number of Sensor nodes</th>\n",
       "      <th>Number of Barriers</th>\n",
       "      <th>Cluster</th>\n",
       "      <th>is_anomaly</th>\n",
       "    </tr>\n",
       "  </thead>\n",
       "  <tbody>\n",
       "    <tr>\n",
       "      <th>0</th>\n",
       "      <td>5000</td>\n",
       "      <td>15</td>\n",
       "      <td>30</td>\n",
       "      <td>100</td>\n",
       "      <td>30</td>\n",
       "      <td>-1</td>\n",
       "      <td>0</td>\n",
       "    </tr>\n",
       "    <tr>\n",
       "      <th>1</th>\n",
       "      <td>5000</td>\n",
       "      <td>16</td>\n",
       "      <td>32</td>\n",
       "      <td>112</td>\n",
       "      <td>35</td>\n",
       "      <td>-1</td>\n",
       "      <td>0</td>\n",
       "    </tr>\n",
       "    <tr>\n",
       "      <th>2</th>\n",
       "      <td>5000</td>\n",
       "      <td>17</td>\n",
       "      <td>34</td>\n",
       "      <td>124</td>\n",
       "      <td>42</td>\n",
       "      <td>-1</td>\n",
       "      <td>0</td>\n",
       "    </tr>\n",
       "    <tr>\n",
       "      <th>3</th>\n",
       "      <td>5000</td>\n",
       "      <td>18</td>\n",
       "      <td>36</td>\n",
       "      <td>136</td>\n",
       "      <td>48</td>\n",
       "      <td>-1</td>\n",
       "      <td>0</td>\n",
       "    </tr>\n",
       "    <tr>\n",
       "      <th>4</th>\n",
       "      <td>5000</td>\n",
       "      <td>19</td>\n",
       "      <td>38</td>\n",
       "      <td>148</td>\n",
       "      <td>56</td>\n",
       "      <td>-1</td>\n",
       "      <td>0</td>\n",
       "    </tr>\n",
       "    <tr>\n",
       "      <th>5</th>\n",
       "      <td>5000</td>\n",
       "      <td>20</td>\n",
       "      <td>40</td>\n",
       "      <td>160</td>\n",
       "      <td>64</td>\n",
       "      <td>-1</td>\n",
       "      <td>0</td>\n",
       "    </tr>\n",
       "    <tr>\n",
       "      <th>6</th>\n",
       "      <td>5000</td>\n",
       "      <td>21</td>\n",
       "      <td>42</td>\n",
       "      <td>172</td>\n",
       "      <td>72</td>\n",
       "      <td>-1</td>\n",
       "      <td>0</td>\n",
       "    </tr>\n",
       "    <tr>\n",
       "      <th>7</th>\n",
       "      <td>5000</td>\n",
       "      <td>22</td>\n",
       "      <td>44</td>\n",
       "      <td>184</td>\n",
       "      <td>80</td>\n",
       "      <td>-1</td>\n",
       "      <td>0</td>\n",
       "    </tr>\n",
       "    <tr>\n",
       "      <th>8</th>\n",
       "      <td>5000</td>\n",
       "      <td>23</td>\n",
       "      <td>46</td>\n",
       "      <td>196</td>\n",
       "      <td>90</td>\n",
       "      <td>-1</td>\n",
       "      <td>0</td>\n",
       "    </tr>\n",
       "    <tr>\n",
       "      <th>9</th>\n",
       "      <td>5000</td>\n",
       "      <td>24</td>\n",
       "      <td>48</td>\n",
       "      <td>208</td>\n",
       "      <td>99</td>\n",
       "      <td>-1</td>\n",
       "      <td>0</td>\n",
       "    </tr>\n",
       "  </tbody>\n",
       "</table>\n",
       "</div>"
      ],
      "text/plain": [
       "   Area  Sensing Range  Transmission Range  Number of Sensor nodes  \\\n",
       "0  5000             15                  30                     100   \n",
       "1  5000             16                  32                     112   \n",
       "2  5000             17                  34                     124   \n",
       "3  5000             18                  36                     136   \n",
       "4  5000             19                  38                     148   \n",
       "5  5000             20                  40                     160   \n",
       "6  5000             21                  42                     172   \n",
       "7  5000             22                  44                     184   \n",
       "8  5000             23                  46                     196   \n",
       "9  5000             24                  48                     208   \n",
       "\n",
       "   Number of Barriers  Cluster  is_anomaly  \n",
       "0                  30       -1           0  \n",
       "1                  35       -1           0  \n",
       "2                  42       -1           0  \n",
       "3                  48       -1           0  \n",
       "4                  56       -1           0  \n",
       "5                  64       -1           0  \n",
       "6                  72       -1           0  \n",
       "7                  80       -1           0  \n",
       "8                  90       -1           0  \n",
       "9                  99       -1           0  "
      ]
     },
     "execution_count": 24,
     "metadata": {},
     "output_type": "execute_result"
    }
   ],
   "source": [
    "df.head(10)"
   ]
  },
  {
   "cell_type": "markdown",
   "id": "e4530df5",
   "metadata": {},
   "source": [
    "# Isolation forest Model"
   ]
  },
  {
   "cell_type": "code",
   "execution_count": 25,
   "id": "daf2562e",
   "metadata": {},
   "outputs": [],
   "source": [
    "from sklearn.ensemble import IsolationForest\n",
    "\n",
    "\n",
    "# Create an Isolation Forest model\n",
    "isolation_forest = IsolationForest(contamination=0.05)  # Adjust contamination based on your dataset\n",
    "\n",
    "# Fit the model on the selected features\n",
    "isolation_forest.fit(df)\n",
    "\n",
    "# Predict outliers/anomalies\n",
    "anomaly_preds = isolation_forest.predict(df)\n",
    "\n",
    "# Add the anomaly predictions to your DataFrame for further analysis or visualization\n",
    "df['is_anomaly'] = anomaly_preds\n",
    "\n",
    "# Filter out the anomaly for further analysis or action\n",
    "anomaly = df[df['is_anomaly'] == 1] # 1 indicates an anomaly\n"
   ]
  },
  {
   "cell_type": "code",
   "execution_count": 26,
   "id": "ddd9ea8d",
   "metadata": {},
   "outputs": [
    {
     "data": {
      "text/html": [
       "<div>\n",
       "<style scoped>\n",
       "    .dataframe tbody tr th:only-of-type {\n",
       "        vertical-align: middle;\n",
       "    }\n",
       "\n",
       "    .dataframe tbody tr th {\n",
       "        vertical-align: top;\n",
       "    }\n",
       "\n",
       "    .dataframe thead th {\n",
       "        text-align: right;\n",
       "    }\n",
       "</style>\n",
       "<table border=\"1\" class=\"dataframe\">\n",
       "  <thead>\n",
       "    <tr style=\"text-align: right;\">\n",
       "      <th></th>\n",
       "      <th>Area</th>\n",
       "      <th>Sensing Range</th>\n",
       "      <th>Transmission Range</th>\n",
       "      <th>Number of Sensor nodes</th>\n",
       "      <th>Number of Barriers</th>\n",
       "      <th>Cluster</th>\n",
       "      <th>is_anomaly</th>\n",
       "    </tr>\n",
       "  </thead>\n",
       "  <tbody>\n",
       "    <tr>\n",
       "      <th>1</th>\n",
       "      <td>5000</td>\n",
       "      <td>16</td>\n",
       "      <td>32</td>\n",
       "      <td>112</td>\n",
       "      <td>35</td>\n",
       "      <td>-1</td>\n",
       "      <td>1</td>\n",
       "    </tr>\n",
       "    <tr>\n",
       "      <th>2</th>\n",
       "      <td>5000</td>\n",
       "      <td>17</td>\n",
       "      <td>34</td>\n",
       "      <td>124</td>\n",
       "      <td>42</td>\n",
       "      <td>-1</td>\n",
       "      <td>1</td>\n",
       "    </tr>\n",
       "    <tr>\n",
       "      <th>3</th>\n",
       "      <td>5000</td>\n",
       "      <td>18</td>\n",
       "      <td>36</td>\n",
       "      <td>136</td>\n",
       "      <td>48</td>\n",
       "      <td>-1</td>\n",
       "      <td>1</td>\n",
       "    </tr>\n",
       "    <tr>\n",
       "      <th>4</th>\n",
       "      <td>5000</td>\n",
       "      <td>19</td>\n",
       "      <td>38</td>\n",
       "      <td>148</td>\n",
       "      <td>56</td>\n",
       "      <td>-1</td>\n",
       "      <td>1</td>\n",
       "    </tr>\n",
       "    <tr>\n",
       "      <th>5</th>\n",
       "      <td>5000</td>\n",
       "      <td>20</td>\n",
       "      <td>40</td>\n",
       "      <td>160</td>\n",
       "      <td>64</td>\n",
       "      <td>-1</td>\n",
       "      <td>1</td>\n",
       "    </tr>\n",
       "    <tr>\n",
       "      <th>...</th>\n",
       "      <td>...</td>\n",
       "      <td>...</td>\n",
       "      <td>...</td>\n",
       "      <td>...</td>\n",
       "      <td>...</td>\n",
       "      <td>...</td>\n",
       "      <td>...</td>\n",
       "    </tr>\n",
       "    <tr>\n",
       "      <th>176</th>\n",
       "      <td>50000</td>\n",
       "      <td>35</td>\n",
       "      <td>70</td>\n",
       "      <td>340</td>\n",
       "      <td>95</td>\n",
       "      <td>-1</td>\n",
       "      <td>1</td>\n",
       "    </tr>\n",
       "    <tr>\n",
       "      <th>177</th>\n",
       "      <td>50000</td>\n",
       "      <td>36</td>\n",
       "      <td>72</td>\n",
       "      <td>352</td>\n",
       "      <td>101</td>\n",
       "      <td>-1</td>\n",
       "      <td>1</td>\n",
       "    </tr>\n",
       "    <tr>\n",
       "      <th>178</th>\n",
       "      <td>50000</td>\n",
       "      <td>37</td>\n",
       "      <td>74</td>\n",
       "      <td>364</td>\n",
       "      <td>107</td>\n",
       "      <td>-1</td>\n",
       "      <td>1</td>\n",
       "    </tr>\n",
       "    <tr>\n",
       "      <th>179</th>\n",
       "      <td>50000</td>\n",
       "      <td>38</td>\n",
       "      <td>76</td>\n",
       "      <td>376</td>\n",
       "      <td>114</td>\n",
       "      <td>-1</td>\n",
       "      <td>1</td>\n",
       "    </tr>\n",
       "    <tr>\n",
       "      <th>180</th>\n",
       "      <td>50000</td>\n",
       "      <td>39</td>\n",
       "      <td>78</td>\n",
       "      <td>388</td>\n",
       "      <td>121</td>\n",
       "      <td>-1</td>\n",
       "      <td>1</td>\n",
       "    </tr>\n",
       "  </tbody>\n",
       "</table>\n",
       "<p>172 rows × 7 columns</p>\n",
       "</div>"
      ],
      "text/plain": [
       "      Area  Sensing Range  Transmission Range  Number of Sensor nodes  \\\n",
       "1     5000             16                  32                     112   \n",
       "2     5000             17                  34                     124   \n",
       "3     5000             18                  36                     136   \n",
       "4     5000             19                  38                     148   \n",
       "5     5000             20                  40                     160   \n",
       "..     ...            ...                 ...                     ...   \n",
       "176  50000             35                  70                     340   \n",
       "177  50000             36                  72                     352   \n",
       "178  50000             37                  74                     364   \n",
       "179  50000             38                  76                     376   \n",
       "180  50000             39                  78                     388   \n",
       "\n",
       "     Number of Barriers  Cluster  is_anomaly  \n",
       "1                    35       -1           1  \n",
       "2                    42       -1           1  \n",
       "3                    48       -1           1  \n",
       "4                    56       -1           1  \n",
       "5                    64       -1           1  \n",
       "..                  ...      ...         ...  \n",
       "176                  95       -1           1  \n",
       "177                 101       -1           1  \n",
       "178                 107       -1           1  \n",
       "179                 114       -1           1  \n",
       "180                 121       -1           1  \n",
       "\n",
       "[172 rows x 7 columns]"
      ]
     },
     "execution_count": 26,
     "metadata": {},
     "output_type": "execute_result"
    }
   ],
   "source": [
    "anomaly"
   ]
  },
  {
   "cell_type": "code",
   "execution_count": 27,
   "id": "7bf75ee8",
   "metadata": {},
   "outputs": [
    {
     "data": {
      "text/plain": [
       "<Axes: xlabel='is_anomaly', ylabel='count'>"
      ]
     },
     "execution_count": 27,
     "metadata": {},
     "output_type": "execute_result"
    },
    {
     "data": {
      "image/png": "[encoded data removed]",
      "text/plain": [
       "<Figure size 640x480 with 1 Axes>"
      ]
     },
     "metadata": {},
     "output_type": "display_data"
    }
   ],
   "source": [
    "sns.set_style('whitegrid')\n",
    "sns.countplot(x='is_anomaly',data=df,palette='RdBu_r')"
   ]
  },
  {
   "cell_type": "code",
   "execution_count": 28,
   "id": "9a95b593",
   "metadata": {},
   "outputs": [
    {
     "data": {
      "text/plain": [
       "<Axes: xlabel='is_anomaly', ylabel='count'>"
      ]
     },
     "execution_count": 28,
     "metadata": {},
     "output_type": "execute_result"
    },
    {
     "data": {
      "image/png": "[encoded data removed]",
      "text/plain": [
       "<Figure size 640x480 with 1 Axes>"
      ]
     },
     "metadata": {},
     "output_type": "display_data"
    }
   ],
   "source": [
    "sns.set_style('whitegrid')\n",
    "sns.countplot(x='is_anomaly',hue='is_anomaly',data=df,palette='RdBu_r')"
   ]
  },
  {
   "cell_type": "markdown",
   "id": "dff7eabe",
   "metadata": {},
   "source": [
    "# LOF model"
   ]
  },
  {
   "cell_type": "code",
   "execution_count": 29,
   "id": "c4e3866c",
   "metadata": {},
   "outputs": [],
   "source": [
    "from sklearn.neighbors import LocalOutlierFactor"
   ]
  },
  {
   "cell_type": "code",
   "execution_count": 30,
   "id": "9763058a",
   "metadata": {},
   "outputs": [],
   "source": [
    "# Create and fit the LOF model\n",
    "lof_model = LocalOutlierFactor(n_neighbors=20, contamination=0.1)  # Adjust parameters as needed\n",
    "Anomaly_Score = lof_model.fit_predict(df)"
   ]
  },
  {
   "cell_type": "code",
   "execution_count": 31,
   "id": "d5cca32d",
   "metadata": {},
   "outputs": [],
   "source": [
    "\n",
    "# Add outlier scores to the DataFrame\n",
    "df['Anomaly_Score'] = -lof_model.negative_outlier_factor_\n",
    "\n"
   ]
  },
  {
   "cell_type": "code",
   "execution_count": 32,
   "id": "362c1ece",
   "metadata": {},
   "outputs": [
    {
     "data": {
      "image/png": "[encoded data removed]",
      "text/plain": [
       "<Figure size 640x480 with 2 Axes>"
      ]
     },
     "metadata": {},
     "output_type": "display_data"
    }
   ],
   "source": [
    "# Visualize the outlier scores\n",
    "plt.scatter(df['Area'], df['is_anomaly'], c=df['Anomaly_Score'], cmap='viridis')\n",
    "plt.xlabel('Area')\n",
    "plt.ylabel('is_anomaly')\n",
    "plt.title('Local Outlier Factor (LOF)')\n",
    "plt.colorbar(label='Anomaly_Score')\n",
    "plt.show()"
   ]
  },
  {
   "cell_type": "code",
   "execution_count": 33,
   "id": "839a423b",
   "metadata": {},
   "outputs": [
    {
     "data": {
      "text/html": [
       "<div>\n",
       "<style scoped>\n",
       "    .dataframe tbody tr th:only-of-type {\n",
       "        vertical-align: middle;\n",
       "    }\n",
       "\n",
       "    .dataframe tbody tr th {\n",
       "        vertical-align: top;\n",
       "    }\n",
       "\n",
       "    .dataframe thead th {\n",
       "        text-align: right;\n",
       "    }\n",
       "</style>\n",
       "<table border=\"1\" class=\"dataframe\">\n",
       "  <thead>\n",
       "    <tr style=\"text-align: right;\">\n",
       "      <th></th>\n",
       "      <th>Area</th>\n",
       "      <th>Sensing Range</th>\n",
       "      <th>Transmission Range</th>\n",
       "      <th>Number of Sensor nodes</th>\n",
       "      <th>Number of Barriers</th>\n",
       "      <th>Cluster</th>\n",
       "      <th>is_anomaly</th>\n",
       "      <th>Anomaly_Score</th>\n",
       "    </tr>\n",
       "  </thead>\n",
       "  <tbody>\n",
       "    <tr>\n",
       "      <th>162</th>\n",
       "      <td>50000</td>\n",
       "      <td>21</td>\n",
       "      <td>42</td>\n",
       "      <td>172</td>\n",
       "      <td>28</td>\n",
       "      <td>-1</td>\n",
       "      <td>1</td>\n",
       "      <td>0.981972</td>\n",
       "    </tr>\n",
       "    <tr>\n",
       "      <th>163</th>\n",
       "      <td>50000</td>\n",
       "      <td>22</td>\n",
       "      <td>44</td>\n",
       "      <td>184</td>\n",
       "      <td>32</td>\n",
       "      <td>-1</td>\n",
       "      <td>1</td>\n",
       "      <td>0.985765</td>\n",
       "    </tr>\n",
       "    <tr>\n",
       "      <th>164</th>\n",
       "      <td>50000</td>\n",
       "      <td>23</td>\n",
       "      <td>46</td>\n",
       "      <td>196</td>\n",
       "      <td>36</td>\n",
       "      <td>-1</td>\n",
       "      <td>1</td>\n",
       "      <td>0.989557</td>\n",
       "    </tr>\n",
       "    <tr>\n",
       "      <th>165</th>\n",
       "      <td>50000</td>\n",
       "      <td>24</td>\n",
       "      <td>48</td>\n",
       "      <td>208</td>\n",
       "      <td>39</td>\n",
       "      <td>-1</td>\n",
       "      <td>1</td>\n",
       "      <td>0.993235</td>\n",
       "    </tr>\n",
       "    <tr>\n",
       "      <th>166</th>\n",
       "      <td>50000</td>\n",
       "      <td>25</td>\n",
       "      <td>50</td>\n",
       "      <td>220</td>\n",
       "      <td>44</td>\n",
       "      <td>-1</td>\n",
       "      <td>1</td>\n",
       "      <td>0.997137</td>\n",
       "    </tr>\n",
       "    <tr>\n",
       "      <th>167</th>\n",
       "      <td>50000</td>\n",
       "      <td>26</td>\n",
       "      <td>52</td>\n",
       "      <td>232</td>\n",
       "      <td>48</td>\n",
       "      <td>-1</td>\n",
       "      <td>1</td>\n",
       "      <td>0.986576</td>\n",
       "    </tr>\n",
       "    <tr>\n",
       "      <th>168</th>\n",
       "      <td>50000</td>\n",
       "      <td>27</td>\n",
       "      <td>54</td>\n",
       "      <td>244</td>\n",
       "      <td>52</td>\n",
       "      <td>-1</td>\n",
       "      <td>1</td>\n",
       "      <td>0.981110</td>\n",
       "    </tr>\n",
       "    <tr>\n",
       "      <th>169</th>\n",
       "      <td>50000</td>\n",
       "      <td>28</td>\n",
       "      <td>56</td>\n",
       "      <td>256</td>\n",
       "      <td>57</td>\n",
       "      <td>-1</td>\n",
       "      <td>1</td>\n",
       "      <td>0.981146</td>\n",
       "    </tr>\n",
       "    <tr>\n",
       "      <th>170</th>\n",
       "      <td>50000</td>\n",
       "      <td>29</td>\n",
       "      <td>58</td>\n",
       "      <td>268</td>\n",
       "      <td>62</td>\n",
       "      <td>-1</td>\n",
       "      <td>1</td>\n",
       "      <td>0.986602</td>\n",
       "    </tr>\n",
       "    <tr>\n",
       "      <th>171</th>\n",
       "      <td>50000</td>\n",
       "      <td>30</td>\n",
       "      <td>60</td>\n",
       "      <td>280</td>\n",
       "      <td>67</td>\n",
       "      <td>-1</td>\n",
       "      <td>1</td>\n",
       "      <td>0.997396</td>\n",
       "    </tr>\n",
       "    <tr>\n",
       "      <th>172</th>\n",
       "      <td>50000</td>\n",
       "      <td>31</td>\n",
       "      <td>62</td>\n",
       "      <td>292</td>\n",
       "      <td>72</td>\n",
       "      <td>-1</td>\n",
       "      <td>1</td>\n",
       "      <td>0.995691</td>\n",
       "    </tr>\n",
       "    <tr>\n",
       "      <th>173</th>\n",
       "      <td>50000</td>\n",
       "      <td>32</td>\n",
       "      <td>64</td>\n",
       "      <td>304</td>\n",
       "      <td>77</td>\n",
       "      <td>-1</td>\n",
       "      <td>1</td>\n",
       "      <td>0.991808</td>\n",
       "    </tr>\n",
       "    <tr>\n",
       "      <th>174</th>\n",
       "      <td>50000</td>\n",
       "      <td>33</td>\n",
       "      <td>66</td>\n",
       "      <td>316</td>\n",
       "      <td>83</td>\n",
       "      <td>-1</td>\n",
       "      <td>1</td>\n",
       "      <td>0.987825</td>\n",
       "    </tr>\n",
       "    <tr>\n",
       "      <th>175</th>\n",
       "      <td>50000</td>\n",
       "      <td>34</td>\n",
       "      <td>68</td>\n",
       "      <td>328</td>\n",
       "      <td>89</td>\n",
       "      <td>-1</td>\n",
       "      <td>1</td>\n",
       "      <td>0.983837</td>\n",
       "    </tr>\n",
       "    <tr>\n",
       "      <th>176</th>\n",
       "      <td>50000</td>\n",
       "      <td>35</td>\n",
       "      <td>70</td>\n",
       "      <td>340</td>\n",
       "      <td>95</td>\n",
       "      <td>-1</td>\n",
       "      <td>1</td>\n",
       "      <td>0.979847</td>\n",
       "    </tr>\n",
       "    <tr>\n",
       "      <th>177</th>\n",
       "      <td>50000</td>\n",
       "      <td>36</td>\n",
       "      <td>72</td>\n",
       "      <td>352</td>\n",
       "      <td>101</td>\n",
       "      <td>-1</td>\n",
       "      <td>1</td>\n",
       "      <td>0.999840</td>\n",
       "    </tr>\n",
       "    <tr>\n",
       "      <th>178</th>\n",
       "      <td>50000</td>\n",
       "      <td>37</td>\n",
       "      <td>74</td>\n",
       "      <td>364</td>\n",
       "      <td>107</td>\n",
       "      <td>-1</td>\n",
       "      <td>1</td>\n",
       "      <td>1.023845</td>\n",
       "    </tr>\n",
       "    <tr>\n",
       "      <th>179</th>\n",
       "      <td>50000</td>\n",
       "      <td>38</td>\n",
       "      <td>76</td>\n",
       "      <td>376</td>\n",
       "      <td>114</td>\n",
       "      <td>-1</td>\n",
       "      <td>1</td>\n",
       "      <td>1.052681</td>\n",
       "    </tr>\n",
       "    <tr>\n",
       "      <th>180</th>\n",
       "      <td>50000</td>\n",
       "      <td>39</td>\n",
       "      <td>78</td>\n",
       "      <td>388</td>\n",
       "      <td>121</td>\n",
       "      <td>-1</td>\n",
       "      <td>1</td>\n",
       "      <td>1.085678</td>\n",
       "    </tr>\n",
       "    <tr>\n",
       "      <th>181</th>\n",
       "      <td>50000</td>\n",
       "      <td>40</td>\n",
       "      <td>80</td>\n",
       "      <td>400</td>\n",
       "      <td>128</td>\n",
       "      <td>-1</td>\n",
       "      <td>-1</td>\n",
       "      <td>1.122863</td>\n",
       "    </tr>\n",
       "  </tbody>\n",
       "</table>\n",
       "</div>"
      ],
      "text/plain": [
       "      Area  Sensing Range  Transmission Range  Number of Sensor nodes  \\\n",
       "162  50000             21                  42                     172   \n",
       "163  50000             22                  44                     184   \n",
       "164  50000             23                  46                     196   \n",
       "165  50000             24                  48                     208   \n",
       "166  50000             25                  50                     220   \n",
       "167  50000             26                  52                     232   \n",
       "168  50000             27                  54                     244   \n",
       "169  50000             28                  56                     256   \n",
       "170  50000             29                  58                     268   \n",
       "171  50000             30                  60                     280   \n",
       "172  50000             31                  62                     292   \n",
       "173  50000             32                  64                     304   \n",
       "174  50000             33                  66                     316   \n",
       "175  50000             34                  68                     328   \n",
       "176  50000             35                  70                     340   \n",
       "177  50000             36                  72                     352   \n",
       "178  50000             37                  74                     364   \n",
       "179  50000             38                  76                     376   \n",
       "180  50000             39                  78                     388   \n",
       "181  50000             40                  80                     400   \n",
       "\n",
       "     Number of Barriers  Cluster  is_anomaly  Anomaly_Score  \n",
       "162                  28       -1           1       0.981972  \n",
       "163                  32       -1           1       0.985765  \n",
       "164                  36       -1           1       0.989557  \n",
       "165                  39       -1           1       0.993235  \n",
       "166                  44       -1           1       0.997137  \n",
       "167                  48       -1           1       0.986576  \n",
       "168                  52       -1           1       0.981110  \n",
       "169                  57       -1           1       0.981146  \n",
       "170                  62       -1           1       0.986602  \n",
       "171                  67       -1           1       0.997396  \n",
       "172                  72       -1           1       0.995691  \n",
       "173                  77       -1           1       0.991808  \n",
       "174                  83       -1           1       0.987825  \n",
       "175                  89       -1           1       0.983837  \n",
       "176                  95       -1           1       0.979847  \n",
       "177                 101       -1           1       0.999840  \n",
       "178                 107       -1           1       1.023845  \n",
       "179                 114       -1           1       1.052681  \n",
       "180                 121       -1           1       1.085678  \n",
       "181                 128       -1          -1       1.122863  "
      ]
     },
     "execution_count": 33,
     "metadata": {},
     "output_type": "execute_result"
    }
   ],
   "source": [
    "df.tail(20)"
   ]
  },
  {
   "cell_type": "markdown",
   "id": "32ebdd28",
   "metadata": {},
   "source": [
    "# Statistical Methods"
   ]
  },
  {
   "cell_type": "code",
   "execution_count": 34,
   "id": "a12af0c8",
   "metadata": {},
   "outputs": [
    {
     "name": "stdout",
     "output_type": "stream",
     "text": [
      "Detected Anomalies:\n",
      "     Area  Sensing Range  Transmission Range  Number of Sensor nodes  \\\n",
      "0     NaN            NaN                 NaN                     NaN   \n",
      "1     NaN            NaN                 NaN                     NaN   \n",
      "2     NaN            NaN                 NaN                     NaN   \n",
      "3     NaN            NaN                 NaN                     NaN   \n",
      "4     NaN            NaN                 NaN                     NaN   \n",
      "..    ...            ...                 ...                     ...   \n",
      "177   NaN            NaN                 NaN                     NaN   \n",
      "178   NaN            NaN                 NaN                     NaN   \n",
      "179   NaN            NaN                 NaN                     NaN   \n",
      "180   NaN            NaN                 NaN                     NaN   \n",
      "181   NaN            NaN                 NaN                     NaN   \n",
      "\n",
      "     Number of Barriers  Cluster  is_anomaly  Anomaly_Score  \n",
      "0                   NaN      NaN        -1.0            NaN  \n",
      "1                   NaN      NaN         NaN            NaN  \n",
      "2                   NaN      NaN         NaN            NaN  \n",
      "3                   NaN      NaN         NaN            NaN  \n",
      "4                   NaN      NaN         NaN            NaN  \n",
      "..                  ...      ...         ...            ...  \n",
      "177                 NaN      NaN         NaN            NaN  \n",
      "178                 NaN      NaN         NaN            NaN  \n",
      "179                 NaN      NaN         NaN            NaN  \n",
      "180                 NaN      NaN         NaN            NaN  \n",
      "181                 NaN      NaN        -1.0            NaN  \n",
      "\n",
      "[182 rows x 8 columns]\n"
     ]
    },
    {
     "name": "stderr",
     "output_type": "stream",
     "text": [
      "C:\\Users\\shaik\\anaconda3\\Lib\\site-packages\\numpy\\core\\fromnumeric.py:3462: FutureWarning: In a future version, DataFrame.mean(axis=None) will return a scalar mean over the entire DataFrame. To retain the old behavior, use 'frame.mean(axis=0)' or just 'frame.mean()'\n",
      "  return mean(axis=axis, dtype=dtype, out=out, **kwargs)\n"
     ]
    }
   ],
   "source": [
    "import pandas as pd\n",
    "import numpy as np\n",
    "\n",
    "\n",
    "# Compute z-scores for the data\n",
    "z_scores = (df- np.mean(df)) / np.std(df)\n",
    "\n",
    "# Set a threshold for anomaly detection based on z-score\n",
    "threshold = 3  # Adjust the threshold as needed\n",
    "\n",
    "# Detect anomalies based on the threshold\n",
    "anomalies = df[np.abs(z_scores) > threshold]\n",
    "\n",
    "# Print the detected anomalies\n",
    "print(\"Detected Anomalies:\")\n",
    "print(anomalies)\n",
    "\n"
   ]
  },
  {
   "cell_type": "code",
   "execution_count": 35,
   "id": "70f95525",
   "metadata": {},
   "outputs": [
    {
     "data": {
      "text/html": [
       "<div>\n",
       "<style scoped>\n",
       "    .dataframe tbody tr th:only-of-type {\n",
       "        vertical-align: middle;\n",
       "    }\n",
       "\n",
       "    .dataframe tbody tr th {\n",
       "        vertical-align: top;\n",
       "    }\n",
       "\n",
       "    .dataframe thead th {\n",
       "        text-align: right;\n",
       "    }\n",
       "</style>\n",
       "<table border=\"1\" class=\"dataframe\">\n",
       "  <thead>\n",
       "    <tr style=\"text-align: right;\">\n",
       "      <th></th>\n",
       "      <th>Area</th>\n",
       "      <th>Sensing Range</th>\n",
       "      <th>Transmission Range</th>\n",
       "      <th>Number of Sensor nodes</th>\n",
       "      <th>Number of Barriers</th>\n",
       "      <th>Cluster</th>\n",
       "      <th>is_anomaly</th>\n",
       "      <th>Anomaly_Score</th>\n",
       "    </tr>\n",
       "  </thead>\n",
       "  <tbody>\n",
       "    <tr>\n",
       "      <th>0</th>\n",
       "      <td>NaN</td>\n",
       "      <td>NaN</td>\n",
       "      <td>NaN</td>\n",
       "      <td>NaN</td>\n",
       "      <td>NaN</td>\n",
       "      <td>NaN</td>\n",
       "      <td>-1.0</td>\n",
       "      <td>NaN</td>\n",
       "    </tr>\n",
       "    <tr>\n",
       "      <th>1</th>\n",
       "      <td>NaN</td>\n",
       "      <td>NaN</td>\n",
       "      <td>NaN</td>\n",
       "      <td>NaN</td>\n",
       "      <td>NaN</td>\n",
       "      <td>NaN</td>\n",
       "      <td>NaN</td>\n",
       "      <td>NaN</td>\n",
       "    </tr>\n",
       "    <tr>\n",
       "      <th>2</th>\n",
       "      <td>NaN</td>\n",
       "      <td>NaN</td>\n",
       "      <td>NaN</td>\n",
       "      <td>NaN</td>\n",
       "      <td>NaN</td>\n",
       "      <td>NaN</td>\n",
       "      <td>NaN</td>\n",
       "      <td>NaN</td>\n",
       "    </tr>\n",
       "    <tr>\n",
       "      <th>3</th>\n",
       "      <td>NaN</td>\n",
       "      <td>NaN</td>\n",
       "      <td>NaN</td>\n",
       "      <td>NaN</td>\n",
       "      <td>NaN</td>\n",
       "      <td>NaN</td>\n",
       "      <td>NaN</td>\n",
       "      <td>NaN</td>\n",
       "    </tr>\n",
       "    <tr>\n",
       "      <th>4</th>\n",
       "      <td>NaN</td>\n",
       "      <td>NaN</td>\n",
       "      <td>NaN</td>\n",
       "      <td>NaN</td>\n",
       "      <td>NaN</td>\n",
       "      <td>NaN</td>\n",
       "      <td>NaN</td>\n",
       "      <td>NaN</td>\n",
       "    </tr>\n",
       "    <tr>\n",
       "      <th>...</th>\n",
       "      <td>...</td>\n",
       "      <td>...</td>\n",
       "      <td>...</td>\n",
       "      <td>...</td>\n",
       "      <td>...</td>\n",
       "      <td>...</td>\n",
       "      <td>...</td>\n",
       "      <td>...</td>\n",
       "    </tr>\n",
       "    <tr>\n",
       "      <th>177</th>\n",
       "      <td>NaN</td>\n",
       "      <td>NaN</td>\n",
       "      <td>NaN</td>\n",
       "      <td>NaN</td>\n",
       "      <td>NaN</td>\n",
       "      <td>NaN</td>\n",
       "      <td>NaN</td>\n",
       "      <td>NaN</td>\n",
       "    </tr>\n",
       "    <tr>\n",
       "      <th>178</th>\n",
       "      <td>NaN</td>\n",
       "      <td>NaN</td>\n",
       "      <td>NaN</td>\n",
       "      <td>NaN</td>\n",
       "      <td>NaN</td>\n",
       "      <td>NaN</td>\n",
       "      <td>NaN</td>\n",
       "      <td>NaN</td>\n",
       "    </tr>\n",
       "    <tr>\n",
       "      <th>179</th>\n",
       "      <td>NaN</td>\n",
       "      <td>NaN</td>\n",
       "      <td>NaN</td>\n",
       "      <td>NaN</td>\n",
       "      <td>NaN</td>\n",
       "      <td>NaN</td>\n",
       "      <td>NaN</td>\n",
       "      <td>NaN</td>\n",
       "    </tr>\n",
       "    <tr>\n",
       "      <th>180</th>\n",
       "      <td>NaN</td>\n",
       "      <td>NaN</td>\n",
       "      <td>NaN</td>\n",
       "      <td>NaN</td>\n",
       "      <td>NaN</td>\n",
       "      <td>NaN</td>\n",
       "      <td>NaN</td>\n",
       "      <td>NaN</td>\n",
       "    </tr>\n",
       "    <tr>\n",
       "      <th>181</th>\n",
       "      <td>NaN</td>\n",
       "      <td>NaN</td>\n",
       "      <td>NaN</td>\n",
       "      <td>NaN</td>\n",
       "      <td>NaN</td>\n",
       "      <td>NaN</td>\n",
       "      <td>-1.0</td>\n",
       "      <td>NaN</td>\n",
       "    </tr>\n",
       "  </tbody>\n",
       "</table>\n",
       "<p>182 rows × 8 columns</p>\n",
       "</div>"
      ],
      "text/plain": [
       "     Area  Sensing Range  Transmission Range  Number of Sensor nodes  \\\n",
       "0     NaN            NaN                 NaN                     NaN   \n",
       "1     NaN            NaN                 NaN                     NaN   \n",
       "2     NaN            NaN                 NaN                     NaN   \n",
       "3     NaN            NaN                 NaN                     NaN   \n",
       "4     NaN            NaN                 NaN                     NaN   \n",
       "..    ...            ...                 ...                     ...   \n",
       "177   NaN            NaN                 NaN                     NaN   \n",
       "178   NaN            NaN                 NaN                     NaN   \n",
       "179   NaN            NaN                 NaN                     NaN   \n",
       "180   NaN            NaN                 NaN                     NaN   \n",
       "181   NaN            NaN                 NaN                     NaN   \n",
       "\n",
       "     Number of Barriers  Cluster  is_anomaly  Anomaly_Score  \n",
       "0                   NaN      NaN        -1.0            NaN  \n",
       "1                   NaN      NaN         NaN            NaN  \n",
       "2                   NaN      NaN         NaN            NaN  \n",
       "3                   NaN      NaN         NaN            NaN  \n",
       "4                   NaN      NaN         NaN            NaN  \n",
       "..                  ...      ...         ...            ...  \n",
       "177                 NaN      NaN         NaN            NaN  \n",
       "178                 NaN      NaN         NaN            NaN  \n",
       "179                 NaN      NaN         NaN            NaN  \n",
       "180                 NaN      NaN         NaN            NaN  \n",
       "181                 NaN      NaN        -1.0            NaN  \n",
       "\n",
       "[182 rows x 8 columns]"
      ]
     },
     "execution_count": 35,
     "metadata": {},
     "output_type": "execute_result"
    }
   ],
   "source": [
    "anomalies"
   ]
  },
  {
   "cell_type": "markdown",
   "id": "d551239f",
   "metadata": {},
   "source": [
    "# Logistic Regression"
   ]
  },
  {
   "cell_type": "markdown",
   "id": "5fda7f4a",
   "metadata": {},
   "source": [
    "\n",
    "\n",
    "Now it's time to do a train test split, and train our model!\n",
    "\n",
    "You'll have the freedom here to choose columns that you want to train on!\n",
    "\n",
    "** Split the data into training set and testing set using train_test_split**"
   ]
  },
  {
   "cell_type": "code",
   "execution_count": 36,
   "id": "73edb559",
   "metadata": {},
   "outputs": [],
   "source": [
    "from sklearn.model_selection import train_test_split\n"
   ]
  },
  {
   "cell_type": "code",
   "execution_count": 74,
   "id": "056bdb8a",
   "metadata": {},
   "outputs": [],
   "source": [
    "X=df\n",
    "y=Anomaly_Score"
   ]
  },
  {
   "cell_type": "markdown",
   "id": "189c3d70",
   "metadata": {},
   "source": [
    "** Train and fit a logistic regression model on the training set.**"
   ]
  },
  {
   "cell_type": "code",
   "execution_count": 75,
   "id": "2e77dd64",
   "metadata": {},
   "outputs": [],
   "source": [
    "X_train, X_test, y_train, y_test = train_test_split(X, y, test_size=0.33, random_state=42)\n"
   ]
  },
  {
   "cell_type": "code",
   "execution_count": 76,
   "id": "354cf2c5",
   "metadata": {},
   "outputs": [],
   "source": [
    "from sklearn.linear_model import LogisticRegression"
   ]
  },
  {
   "cell_type": "code",
   "execution_count": 77,
   "id": "64e571ff",
   "metadata": {},
   "outputs": [
    {
     "data": {
      "text/html": [
       "<style>#sk-container-id-2 {color: black;}#sk-container-id-2 pre{padding: 0;}#sk-container-id-2 div.sk-toggleable {background-color: white;}#sk-container-id-2 label.sk-toggleable__label {cursor: pointer;display: block;width: 100%;margin-bottom: 0;padding: 0.3em;box-sizing: border-box;text-align: center;}#sk-container-id-2 label.sk-toggleable__label-arrow:before {content: \"▸\";float: left;margin-right: 0.25em;color: #696969;}#sk-container-id-2 label.sk-toggleable__label-arrow:hover:before {color: black;}#sk-container-id-2 div.sk-estimator:hover label.sk-toggleable__label-arrow:before {color: black;}#sk-container-id-2 div.sk-toggleable__content {max-height: 0;max-width: 0;overflow: hidden;text-align: left;background-color: #f0f8ff;}#sk-container-id-2 div.sk-toggleable__content pre {margin: 0.2em;color: black;border-radius: 0.25em;background-color: #f0f8ff;}#sk-container-id-2 input.sk-toggleable__control:checked~div.sk-toggleable__content {max-height: 200px;max-width: 100%;overflow: auto;}#sk-container-id-2 input.sk-toggleable__control:checked~label.sk-toggleable__label-arrow:before {content: \"▾\";}#sk-container-id-2 div.sk-estimator input.sk-toggleable__control:checked~label.sk-toggleable__label {background-color: #d4ebff;}#sk-container-id-2 div.sk-label input.sk-toggleable__control:checked~label.sk-toggleable__label {background-color: #d4ebff;}#sk-container-id-2 input.sk-hidden--visually {border: 0;clip: rect(1px 1px 1px 1px);clip: rect(1px, 1px, 1px, 1px);height: 1px;margin: -1px;overflow: hidden;padding: 0;position: absolute;width: 1px;}#sk-container-id-2 div.sk-estimator {font-family: monospace;background-color: #f0f8ff;border: 1px dotted black;border-radius: 0.25em;box-sizing: border-box;margin-bottom: 0.5em;}#sk-container-id-2 div.sk-estimator:hover {background-color: #d4ebff;}#sk-container-id-2 div.sk-parallel-item::after {content: \"\";width: 100%;border-bottom: 1px solid gray;flex-grow: 1;}#sk-container-id-2 div.sk-label:hover label.sk-toggleable__label {background-color: #d4ebff;}#sk-container-id-2 div.sk-serial::before {content: \"\";position: absolute;border-left: 1px solid gray;box-sizing: border-box;top: 0;bottom: 0;left: 50%;z-index: 0;}#sk-container-id-2 div.sk-serial {display: flex;flex-direction: column;align-items: center;background-color: white;padding-right: 0.2em;padding-left: 0.2em;position: relative;}#sk-container-id-2 div.sk-item {position: relative;z-index: 1;}#sk-container-id-2 div.sk-parallel {display: flex;align-items: stretch;justify-content: center;background-color: white;position: relative;}#sk-container-id-2 div.sk-item::before, #sk-container-id-2 div.sk-parallel-item::before {content: \"\";position: absolute;border-left: 1px solid gray;box-sizing: border-box;top: 0;bottom: 0;left: 50%;z-index: -1;}#sk-container-id-2 div.sk-parallel-item {display: flex;flex-direction: column;z-index: 1;position: relative;background-color: white;}#sk-container-id-2 div.sk-parallel-item:first-child::after {align-self: flex-end;width: 50%;}#sk-container-id-2 div.sk-parallel-item:last-child::after {align-self: flex-start;width: 50%;}#sk-container-id-2 div.sk-parallel-item:only-child::after {width: 0;}#sk-container-id-2 div.sk-dashed-wrapped {border: 1px dashed gray;margin: 0 0.4em 0.5em 0.4em;box-sizing: border-box;padding-bottom: 0.4em;background-color: white;}#sk-container-id-2 div.sk-label label {font-family: monospace;font-weight: bold;display: inline-block;line-height: 1.2em;}#sk-container-id-2 div.sk-label-container {text-align: center;}#sk-container-id-2 div.sk-container {/* jupyter's `normalize.less` sets `[hidden] { display: none; }` but bootstrap.min.css set `[hidden] { display: none !important; }` so we also need the `!important` here to be able to override the default hidden behavior on the sphinx rendered scikit-learn.org. See: https://github.com/scikit-learn/scikit-learn/issues/21755 */display: inline-block !important;position: relative;}#sk-container-id-2 div.sk-text-repr-fallback {display: none;}</style><div id=\"sk-container-id-2\" class=\"sk-top-container\"><div class=\"sk-text-repr-fallback\"><pre>LogisticRegression(multi_class=&#x27;ovr&#x27;)</pre><b>In a Jupyter environment, please rerun this cell to show the HTML representation or trust the notebook. <br />On GitHub, the HTML representation is unable to render, please try loading this page with nbviewer.org.</b></div><div class=\"sk-container\" hidden><div class=\"sk-item\"><div class=\"sk-estimator sk-toggleable\"><input class=\"sk-toggleable__control sk-hidden--visually\" id=\"sk-estimator-id-2\" type=\"checkbox\" checked><label for=\"sk-estimator-id-2\" class=\"sk-toggleable__label sk-toggleable__label-arrow\">LogisticRegression</label><div class=\"sk-toggleable__content\"><pre>LogisticRegression(multi_class=&#x27;ovr&#x27;)</pre></div></div></div></div></div>"
      ],
      "text/plain": [
       "LogisticRegression(multi_class='ovr')"
      ]
     },
     "execution_count": 77,
     "metadata": {},
     "output_type": "execute_result"
    }
   ],
   "source": [
    "logmodel = LogisticRegression(penalty=\"l2\",multi_class=\"ovr\")\n",
    "logmodel.fit(X_train,y_train)"
   ]
  },
  {
   "cell_type": "markdown",
   "id": "3a15b516",
   "metadata": {},
   "source": [
    "Predictions and Evaluations"
   ]
  },
  {
   "cell_type": "markdown",
   "id": "754c2a6b",
   "metadata": {},
   "source": [
    "** Now predict values for the testing data.**"
   ]
  },
  {
   "cell_type": "code",
   "execution_count": 78,
   "id": "4fa19cf1",
   "metadata": {},
   "outputs": [],
   "source": [
    "predictions = logmodel.predict(X_test)"
   ]
  },
  {
   "cell_type": "code",
   "execution_count": 79,
   "id": "86e74374",
   "metadata": {},
   "outputs": [],
   "source": [
    "from sklearn.metrics import classification_report"
   ]
  },
  {
   "cell_type": "markdown",
   "id": "e0352e3d",
   "metadata": {},
   "source": [
    "** Create a classification report for the model.**"
   ]
  },
  {
   "cell_type": "code",
   "execution_count": 80,
   "id": "071bfd8a",
   "metadata": {},
   "outputs": [
    {
     "name": "stdout",
     "output_type": "stream",
     "text": [
      "              precision    recall  f1-score   support\n",
      "\n",
      "          -1       1.00      0.25      0.40         4\n",
      "           1       0.95      1.00      0.97        57\n",
      "\n",
      "    accuracy                           0.95        61\n",
      "   macro avg       0.97      0.62      0.69        61\n",
      "weighted avg       0.95      0.95      0.94        61\n",
      "\n"
     ]
    }
   ],
   "source": [
    "print(classification_report(y_test,predictions))"
   ]
  },
  {
   "cell_type": "code",
   "execution_count": 81,
   "id": "c6775e75",
   "metadata": {},
   "outputs": [
    {
     "data": {
      "text/plain": [
       "0.9508196721311475"
      ]
     },
     "execution_count": 81,
     "metadata": {},
     "output_type": "execute_result"
    }
   ],
   "source": [
    "from sklearn.metrics import accuracy_score\n",
    "accuracy_score(y_test, predictions)"
   ]
  },
  {
   "cell_type": "code",
   "execution_count": 82,
   "id": "46bf4190",
   "metadata": {
    "scrolled": true
   },
   "outputs": [
    {
     "name": "stdout",
     "output_type": "stream",
     "text": [
      "Test Accuracy: 0.9508196721311475\n"
     ]
    }
   ],
   "source": [
    "test_accuracy = accuracy_score(y_test, predictions)\n",
    "print(\"Test Accuracy:\",test_accuracy)"
   ]
  },
  {
   "cell_type": "markdown",
   "id": "0df92dc6",
   "metadata": {},
   "source": [
    "hyperparameter tuning for LogisticRegression"
   ]
  },
  {
   "cell_type": "code",
   "execution_count": 83,
   "id": "35bf6bb6",
   "metadata": {},
   "outputs": [
    {
     "name": "stderr",
     "output_type": "stream",
     "text": [
      "C:\\Users\\shaik\\anaconda3\\Lib\\site-packages\\sklearn\\linear_model\\_logistic.py:460: ConvergenceWarning: lbfgs failed to converge (status=1):\n",
      "STOP: TOTAL NO. of ITERATIONS REACHED LIMIT.\n",
      "\n",
      "Increase the number of iterations (max_iter) or scale the data as shown in:\n",
      "    https://scikit-learn.org/stable/modules/preprocessing.html\n",
      "Please also refer to the documentation for alternative solver options:\n",
      "    https://scikit-learn.org/stable/modules/linear_model.html#logistic-regression\n",
      "  n_iter_i = _check_optimize_result(\n",
      "C:\\Users\\shaik\\anaconda3\\Lib\\site-packages\\sklearn\\linear_model\\_logistic.py:460: ConvergenceWarning: lbfgs failed to converge (status=1):\n",
      "STOP: TOTAL NO. of ITERATIONS REACHED LIMIT.\n",
      "\n",
      "Increase the number of iterations (max_iter) or scale the data as shown in:\n",
      "    https://scikit-learn.org/stable/modules/preprocessing.html\n",
      "Please also refer to the documentation for alternative solver options:\n",
      "    https://scikit-learn.org/stable/modules/linear_model.html#logistic-regression\n",
      "  n_iter_i = _check_optimize_result(\n",
      "C:\\Users\\shaik\\anaconda3\\Lib\\site-packages\\sklearn\\linear_model\\_logistic.py:460: ConvergenceWarning: lbfgs failed to converge (status=1):\n",
      "STOP: TOTAL NO. of ITERATIONS REACHED LIMIT.\n",
      "\n",
      "Increase the number of iterations (max_iter) or scale the data as shown in:\n",
      "    https://scikit-learn.org/stable/modules/preprocessing.html\n",
      "Please also refer to the documentation for alternative solver options:\n",
      "    https://scikit-learn.org/stable/modules/linear_model.html#logistic-regression\n",
      "  n_iter_i = _check_optimize_result(\n"
     ]
    },
    {
     "name": "stdout",
     "output_type": "stream",
     "text": [
      "accuracy on Test Set: 0.9344262295081968\n"
     ]
    },
    {
     "name": "stderr",
     "output_type": "stream",
     "text": [
      "C:\\Users\\shaik\\anaconda3\\Lib\\site-packages\\sklearn\\model_selection\\_validation.py:425: FitFailedWarning: \n",
      "30 fits failed out of a total of 60.\n",
      "The score on these train-test partitions for these parameters will be set to nan.\n",
      "If these failures are not expected, you can try to debug them by setting error_score='raise'.\n",
      "\n",
      "Below are more details about the failures:\n",
      "--------------------------------------------------------------------------------\n",
      "30 fits failed with the following error:\n",
      "Traceback (most recent call last):\n",
      "  File \"C:\\Users\\shaik\\anaconda3\\Lib\\site-packages\\sklearn\\model_selection\\_validation.py\", line 732, in _fit_and_score\n",
      "    estimator.fit(X_train, y_train, **fit_params)\n",
      "  File \"C:\\Users\\shaik\\anaconda3\\Lib\\site-packages\\sklearn\\base.py\", line 1151, in wrapper\n",
      "    return fit_method(estimator, *args, **kwargs)\n",
      "           ^^^^^^^^^^^^^^^^^^^^^^^^^^^^^^^^^^^^^^\n",
      "  File \"C:\\Users\\shaik\\anaconda3\\Lib\\site-packages\\sklearn\\linear_model\\_logistic.py\", line 1168, in fit\n",
      "    solver = _check_solver(self.solver, self.penalty, self.dual)\n",
      "             ^^^^^^^^^^^^^^^^^^^^^^^^^^^^^^^^^^^^^^^^^^^^^^^^^^^\n",
      "  File \"C:\\Users\\shaik\\anaconda3\\Lib\\site-packages\\sklearn\\linear_model\\_logistic.py\", line 56, in _check_solver\n",
      "    raise ValueError(\n",
      "ValueError: Solver lbfgs supports only 'l2' or 'none' penalties, got l1 penalty.\n",
      "\n",
      "  warnings.warn(some_fits_failed_message, FitFailedWarning)\n",
      "C:\\Users\\shaik\\anaconda3\\Lib\\site-packages\\sklearn\\model_selection\\_search.py:976: UserWarning: One or more of the test scores are non-finite: [       nan 0.85421053        nan 0.85421053        nan 0.85421053\n",
      "        nan 0.85421053        nan 0.86473684        nan 0.86473684]\n",
      "  warnings.warn(\n"
     ]
    }
   ],
   "source": [
    "from sklearn.model_selection import GridSearchCV\n",
    "from sklearn.linear_model import LogisticRegression\n",
    "from sklearn.model_selection import train_test_split\n",
    "from sklearn.metrics import accuracy_score\n",
    "\n",
    "# Assume X_train, y_train are your training data and labels\n",
    "X_train, X_val, y_train, y_val = train_test_split(X_train, y_train, test_size=0.2, random_state=42)\n",
    "\n",
    "# Define the logistic regression model\n",
    "logreg = LogisticRegression()\n",
    "\n",
    "# Define hyperparameters and their possible values\n",
    "param_grid = {'C': [0.001, 0.01, 0.1, 1, 10, 100], 'penalty': ['l1', 'l2']}\n",
    "\n",
    "# Create GridSearchCV object\n",
    "grid_search = GridSearchCV(logreg, param_grid, cv=5, scoring='accuracy')\n",
    "\n",
    "# Fit the model to the training data\n",
    "grid_search.fit(X_train, y_train)\n",
    "\n",
    "# Get the best hyperparameters\n",
    "best_params = grid_search.best_params_\n",
    "\n",
    "# Evaluate the model with the best hyperparameters on the validation set\n",
    "best_model = grid_search.best_estimator_\n",
    "accuracy = best_model.score(X_test,y_test)\n",
    "\n",
    "\n",
    "print(\"accuracy on Test Set:\",accuracy)"
   ]
  },
  {
   "cell_type": "code",
   "execution_count": 68,
   "id": "3d2a8753",
   "metadata": {},
   "outputs": [],
   "source": [
    "from sklearn.metrics import confusion_matrix \n",
    "# Calculate the confusion matrix\n",
    "conf_matrix = confusion_matrix(y_test,predictions)"
   ]
  },
  {
   "cell_type": "code",
   "execution_count": 69,
   "id": "d3aa4352",
   "metadata": {},
   "outputs": [
    {
     "data": {
      "text/plain": [
       "array([[ 2,  1],\n",
       "       [ 0, 34]], dtype=int64)"
      ]
     },
     "execution_count": 69,
     "metadata": {},
     "output_type": "execute_result"
    }
   ],
   "source": [
    "conf_matrix"
   ]
  },
  {
   "cell_type": "code",
   "execution_count": 67,
   "id": "b41e8ec5",
   "metadata": {},
   "outputs": [
    {
     "data": {
      "image/png": "[encoded data removed]",
      "text/plain": [
       "<Figure size 600x500 with 2 Axes>"
      ]
     },
     "metadata": {},
     "output_type": "display_data"
    }
   ],
   "source": [
    "# Plot the confusion matrix\n",
    "plt.figure(figsize=(6, 5))\n",
    "sns.heatmap(conf_matrix, annot=True, fmt='d', cmap='Blues')\n",
    "plt.title('Confusion Matrix - Logistic Regression')\n",
    "plt.xlabel('Predicted Labels')\n",
    "plt.ylabel('True Labels')\n",
    "plt.show()"
   ]
  },
  {
   "cell_type": "code",
   "execution_count": 84,
   "id": "cb39647c",
   "metadata": {},
   "outputs": [
    {
     "name": "stdout",
     "output_type": "stream",
     "text": [
      "Mean square error: 0.93\n",
      "Model Accuracy is 93.44%\n"
     ]
    }
   ],
   "source": [
    "from sklearn.linear_model import LogisticRegression\n",
    "m2=LogisticRegression().fit(X_train, y_train)\n",
    "score = m2.score(X_test,y_test)\n",
    "print(f'Mean square error: {score:.2f}')\n",
    "#accuracy_score(m2,y_test)\n",
    "print(\"Model Accuracy is {p}%\".format(p =round (score*100, 2)))"
   ]
  },
  {
   "cell_type": "markdown",
   "id": "b8a007eb",
   "metadata": {},
   "source": [
    "# GradientBoostingClassifier Model"
   ]
  },
  {
   "cell_type": "code",
   "execution_count": 89,
   "id": "c8c4270f",
   "metadata": {},
   "outputs": [
    {
     "name": "stdout",
     "output_type": "stream",
     "text": [
      "Accuracy of Gradient Boosting Classifier: 1.0\n"
     ]
    }
   ],
   "source": [
    "from sklearn.ensemble import GradientBoostingClassifier\n",
    "\n",
    "# Standardize the features using StandardScaler\n",
    "scaler = StandardScaler()\n",
    "X_train_scaled = scaler.fit_transform(X_train)\n",
    "X_test_scaled = scaler.transform(X_test)\n",
    "\n",
    "# Initialize the Gradient Boosting classifier\n",
    "gb_classifier = GradientBoostingClassifier(n_estimators=100, learning_rate=0.1, random_state=42)\n",
    "\n",
    "# Train the classifier\n",
    "gb_classifier.fit(X_train_scaled, y_train)\n",
    "\n",
    "# Make predictions on the testing data\n",
    "y_pred = gb_classifier.predict(X_test_scaled)\n",
    "\n",
    "# Evaluate the model's accuracy\n",
    "accuracy = accuracy_score(y_test, y_pred)\n",
    "print(\"Accuracy of Gradient Boosting Classifier:\",accuracy)"
   ]
  },
  {
   "cell_type": "markdown",
   "id": "65235191",
   "metadata": {},
   "source": [
    "hyperparameter tuning for GradientBoostingClassifier"
   ]
  },
  {
   "cell_type": "code",
   "execution_count": 86,
   "id": "acca012c",
   "metadata": {},
   "outputs": [
    {
     "name": "stdout",
     "output_type": "stream",
     "text": [
      "              precision    recall  f1-score   support\n",
      "\n",
      "          -1       1.00      1.00      1.00         4\n",
      "           1       1.00      1.00      1.00        57\n",
      "\n",
      "    accuracy                           1.00        61\n",
      "   macro avg       1.00      1.00      1.00        61\n",
      "weighted avg       1.00      1.00      1.00        61\n",
      "\n"
     ]
    }
   ],
   "source": [
    "# Define the GradientBoostingClassifier\n",
    "gb_clf = GradientBoostingClassifier()\n",
    "\n",
    "# Define the hyperparameters grid to search through\n",
    "param_grid = {\n",
    "    'n_estimators': [100, 200, 300],\n",
    "    'learning_rate': [0.05, 0.1, 0.2],\n",
    "    'max_depth': [3, 5, 7],\n",
    "    'min_samples_split': [2, 5, 10],\n",
    "    'min_samples_leaf': [1, 2, 4],\n",
    "    'subsample': [0.8, 0.9, 1.0]\n",
    "}\n",
    "\n",
    "# Perform Grid Search Cross Validation to find the best hyperparameters\n",
    "grid_search = GridSearchCV(estimator=gb_clf, param_grid=param_grid, cv=5)\n",
    "grid_search.fit(X_train, y_train)\n",
    "\n",
    "# Get the best hyperparameters\n",
    "best_params = grid_search.best_params_\n",
    "\n",
    "# Initialize the GradientBoostingClassifier with the best hyperparameters\n",
    "best_gb_clf = GradientBoostingClassifier(**best_params)\n",
    "\n",
    "# Fit the model using the best hyperparameters\n",
    "best_gb_clf.fit(X_train, y_train)\n",
    "\n",
    "# Evaluate the model\n",
    "y_pred = best_gb_clf.predict(X_test)\n",
    "print(classification_report(y_test, y_pred))"
   ]
  },
  {
   "cell_type": "code",
   "execution_count": 91,
   "id": "c0026ca6",
   "metadata": {},
   "outputs": [
    {
     "data": {
      "text/plain": [
       "1.0"
      ]
     },
     "execution_count": 91,
     "metadata": {},
     "output_type": "execute_result"
    }
   ],
   "source": [
    "from sklearn.metrics import accuracy_score\n",
    "accuracy_score(y_test, y_pred)"
   ]
  },
  {
   "cell_type": "markdown",
   "id": "e19616f1",
   "metadata": {},
   "source": [
    "# Thank you"
   ]
  },
  {
   "cell_type": "code",
   "execution_count": null,
   "id": "c64ae5c6",
   "metadata": {},
   "outputs": [],
   "source": []
  }
 ],
 "metadata": {
  "kernelspec": {
   "display_name": "Python 3 (ipykernel)",
   "language": "python",
   "name": "python3"
  },
  "language_info": {
   "codemirror_mode": {
    "name": "ipython",
    "version": 3
   },
   "file_extension": ".py",
   "mimetype": "text/x-python",
   "name": "python",
   "nbconvert_exporter": "python",
   "pygments_lexer": "ipython3",
   "version": "3.11.4"
  }
 },
 "nbformat": 4,
 "nbformat_minor": 5
}
